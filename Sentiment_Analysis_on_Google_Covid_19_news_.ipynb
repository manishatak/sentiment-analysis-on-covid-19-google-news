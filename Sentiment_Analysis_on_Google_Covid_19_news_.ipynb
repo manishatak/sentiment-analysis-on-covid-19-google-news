{
  "nbformat": 4,
  "nbformat_minor": 0,
  "metadata": {
    "colab": {
      "provenance": []
    },
    "kernelspec": {
      "name": "python3",
      "display_name": "Python 3"
    },
    "language_info": {
      "name": "python"
    }
  },
  "cells": [
    {
      "cell_type": "markdown",
      "source": [
        "### **Sentimant Analysis on Google News about Covid-19**\n",
        "\n",
        "---\n",
        "\n"
      ],
      "metadata": {
        "id": "FzNmFYgQinxe"
      }
    },
    {
      "cell_type": "markdown",
      "source": [
        "### **Load Dataset**"
      ],
      "metadata": {
        "id": "YRFYTYdTngbD"
      }
    },
    {
      "cell_type": "markdown",
      "source": [
        "Install live data from Google news API"
      ],
      "metadata": {
        "id": "N3XX2lyAi4tK"
      }
    },
    {
      "cell_type": "code",
      "source": [
        "pip install GoogleNews"
      ],
      "metadata": {
        "colab": {
          "base_uri": "https://localhost:8080/"
        },
        "id": "2ckSHIJ3Uqhn",
        "outputId": "a35c682d-9e47-437b-bbad-72cb7d13648f"
      },
      "execution_count": 232,
      "outputs": [
        {
          "output_type": "stream",
          "name": "stdout",
          "text": [
            "Looking in indexes: https://pypi.org/simple, https://us-python.pkg.dev/colab-wheels/public/simple/\n",
            "Requirement already satisfied: GoogleNews in /usr/local/lib/python3.9/dist-packages (1.6.7)\n",
            "Requirement already satisfied: beautifulsoup4 in /usr/local/lib/python3.9/dist-packages (from GoogleNews) (4.11.2)\n",
            "Requirement already satisfied: dateparser in /usr/local/lib/python3.9/dist-packages (from GoogleNews) (1.1.8)\n",
            "Requirement already satisfied: python-dateutil in /usr/local/lib/python3.9/dist-packages (from GoogleNews) (2.8.2)\n",
            "Requirement already satisfied: soupsieve>1.2 in /usr/local/lib/python3.9/dist-packages (from beautifulsoup4->GoogleNews) (2.4)\n",
            "Requirement already satisfied: tzlocal in /usr/local/lib/python3.9/dist-packages (from dateparser->GoogleNews) (4.3)\n",
            "Requirement already satisfied: pytz in /usr/local/lib/python3.9/dist-packages (from dateparser->GoogleNews) (2022.7.1)\n",
            "Requirement already satisfied: regex!=2019.02.19,!=2021.8.27 in /usr/local/lib/python3.9/dist-packages (from dateparser->GoogleNews) (2022.10.31)\n",
            "Requirement already satisfied: six>=1.5 in /usr/local/lib/python3.9/dist-packages (from python-dateutil->GoogleNews) (1.16.0)\n",
            "Requirement already satisfied: pytz-deprecation-shim in /usr/local/lib/python3.9/dist-packages (from tzlocal->dateparser->GoogleNews) (0.1.0.post0)\n",
            "Requirement already satisfied: tzdata in /usr/local/lib/python3.9/dist-packages (from pytz-deprecation-shim->tzlocal->dateparser->GoogleNews) (2023.3)\n"
          ]
        }
      ]
    },
    {
      "cell_type": "markdown",
      "source": [
        "Import necessary libraries"
      ],
      "metadata": {
        "id": "wNdq3NfBjReo"
      }
    },
    {
      "cell_type": "code",
      "source": [
        "import pandas as pd\n",
        "import nltk\n",
        "import matplotlib.pyplot as plt\n",
        "import spacy\n",
        "import datetime as dt\n",
        "\n",
        "nltk.download('all')"
      ],
      "metadata": {
        "id": "L9mTzxF9VnVM"
      },
      "execution_count": null,
      "outputs": []
    },
    {
      "cell_type": "markdown",
      "source": [
        "Load Dataset"
      ],
      "metadata": {
        "id": "ljpw7xYOjWFc"
      }
    },
    {
      "cell_type": "code",
      "execution_count": 234,
      "metadata": {
        "id": "sh-R_eff57If",
        "colab": {
          "base_uri": "https://localhost:8080/"
        },
        "outputId": "ac14ddef-791b-4550-cd1a-8e3d195280dd"
      },
      "outputs": [
        {
          "output_type": "stream",
          "name": "stderr",
          "text": [
            "[nltk_data] Downloading package vader_lexicon to /root/nltk_data...\n",
            "[nltk_data]   Package vader_lexicon is already up-to-date!\n"
          ]
        },
        {
          "output_type": "execute_result",
          "data": {
            "text/plain": [
              "True"
            ]
          },
          "metadata": {},
          "execution_count": 234
        }
      ],
      "source": [
        "from GoogleNews import GoogleNews\n",
        "from nltk.sentiment.vader import SentimentIntensityAnalyzer\n",
        "from nltk.corpus import stopwords\n",
        "from nltk.tokenize import word_tokenize\n",
        "from nltk.stem import WordNetLemmatizer\n",
        "from bs4 import BeautifulSoup\n",
        "from nltk.collections import Counter\n",
        "pos_spacy = spacy.load(\"en_core_web_sm\")\n",
        "nltk.download('vader_lexicon')"
      ]
    },
    {
      "cell_type": "markdown",
      "source": [
        "Define a keyword to search in the Google news Api"
      ],
      "metadata": {
        "id": "ZStZw_RGjgWr"
      }
    },
    {
      "cell_type": "code",
      "source": [
        "keyword = 'Covid-19'"
      ],
      "metadata": {
        "id": "VhGc8CslVEuC"
      },
      "execution_count": 236,
      "outputs": []
    },
    {
      "cell_type": "markdown",
      "source": [
        "Perform news scraping from Google and extract the result into Pandas dataframe."
      ],
      "metadata": {
        "id": "QOqq-F5gjwtg"
      }
    },
    {
      "cell_type": "code",
      "source": [
        "googlenews = GoogleNews(lang='en', region='IN', period='20d', encode='utf-8')\n",
        "googlenews.clear()\n",
        "googlenews.search(keyword)\n",
        "googlenews.get_page(15)\n",
        "news_result = googlenews.result(sort=True)\n",
        "news_data_df = pd.DataFrame.from_dict(news_result)"
      ],
      "metadata": {
        "id": "QZRFeqUuVJtB"
      },
      "execution_count": 237,
      "outputs": []
    },
    {
      "cell_type": "markdown",
      "source": [
        "Export dataframe to csv file"
      ],
      "metadata": {
        "id": "W_Tehfp2j1QQ"
      }
    },
    {
      "cell_type": "code",
      "source": [
        "news_data_df.to_csv('Covid-19_google_news_sentiment_analysis.csv', index=False, encoding=\"utf-8-sig\")"
      ],
      "metadata": {
        "id": "1AAP8Sc5XpV9"
      },
      "execution_count": 238,
      "outputs": []
    },
    {
      "cell_type": "markdown",
      "source": [
        "### **Data Preprocessing**"
      ],
      "metadata": {
        "id": "V95R6GJSksmb"
      }
    },
    {
      "cell_type": "markdown",
      "source": [
        "Information on DataFrame"
      ],
      "metadata": {
        "id": "mMl97Fo2kDW8"
      }
    },
    {
      "cell_type": "code",
      "source": [
        "news_data_df.info()"
      ],
      "metadata": {
        "colab": {
          "base_uri": "https://localhost:8080/"
        },
        "id": "2nu-1NGfVQ7o",
        "outputId": "41b1dd52-bb6f-4fde-b04d-47a0576fe279"
      },
      "execution_count": 239,
      "outputs": [
        {
          "output_type": "stream",
          "name": "stdout",
          "text": [
            "<class 'pandas.core.frame.DataFrame'>\n",
            "RangeIndex: 20 entries, 0 to 19\n",
            "Data columns (total 7 columns):\n",
            " #   Column    Non-Null Count  Dtype         \n",
            "---  ------    --------------  -----         \n",
            " 0   title     20 non-null     object        \n",
            " 1   media     20 non-null     object        \n",
            " 2   date      20 non-null     object        \n",
            " 3   datetime  20 non-null     datetime64[ns]\n",
            " 4   desc      20 non-null     object        \n",
            " 5   link      20 non-null     object        \n",
            " 6   img       20 non-null     object        \n",
            "dtypes: datetime64[ns](1), object(6)\n",
            "memory usage: 1.2+ KB\n"
          ]
        }
      ]
    },
    {
      "cell_type": "markdown",
      "source": [
        "Checking null values"
      ],
      "metadata": {
        "id": "DD8rH3uokP7E"
      }
    },
    {
      "cell_type": "code",
      "source": [
        "news_data_df.isnull().sum()"
      ],
      "metadata": {
        "colab": {
          "base_uri": "https://localhost:8080/"
        },
        "id": "AjN9rHkie_XK",
        "outputId": "85997864-9119-4cbe-8910-20c0c1b657f3"
      },
      "execution_count": 240,
      "outputs": [
        {
          "output_type": "execute_result",
          "data": {
            "text/plain": [
              "title       0\n",
              "media       0\n",
              "date        0\n",
              "datetime    0\n",
              "desc        0\n",
              "link        0\n",
              "img         0\n",
              "dtype: int64"
            ]
          },
          "metadata": {},
          "execution_count": 240
        }
      ]
    },
    {
      "cell_type": "markdown",
      "source": [
        "Filling missing Values"
      ],
      "metadata": {
        "id": "drqFRRZ8kUw-"
      }
    },
    {
      "cell_type": "code",
      "source": [
        "news_data_df.fillna(value = \"\", inplace = True)"
      ],
      "metadata": {
        "id": "cNhrAMSWfGfH"
      },
      "execution_count": 241,
      "outputs": []
    },
    {
      "cell_type": "code",
      "source": [
        "news_data_df.head()"
      ],
      "metadata": {
        "colab": {
          "base_uri": "https://localhost:8080/",
          "height": 424
        },
        "id": "Y4SzF7gYVZxt",
        "outputId": "b843e0ed-3e42-4bb6-d8ef-7d8ac64a3e28"
      },
      "execution_count": 242,
      "outputs": [
        {
          "output_type": "execute_result",
          "data": {
            "text/plain": [
              "                                               title            media  \\\n",
              "0  McHenry County reports one more COVID-19 death...       Shaw Local   \n",
              "1  6 Stateline counties at Medium Community level...             WREX   \n",
              "2  Fact check: New COVID-19 variants still found ...        USA Today   \n",
              "3  Watching the wastewater: Mass. COVID at lowest...             WBUR   \n",
              "4  What Is the Arcturus Omicron XBB.1.16 Subvariant?  Everyday Health   \n",
              "\n",
              "                              date                   datetime  \\\n",
              "0                       3 mins ago 2023-04-14 21:20:22.834762   \n",
              "1                       4 mins ago 2023-04-14 21:19:22.828925   \n",
              "2  Fact check article · 6 mins ago 2023-04-14 21:17:22.810623   \n",
              "3                       7 mins ago 2023-04-14 21:16:22.824537   \n",
              "4                       8 mins ago 2023-04-14 21:15:22.819915   \n",
              "\n",
              "                                                desc  \\\n",
              "0  For 12 straight weeks, McHenry County's COVID-...   \n",
              "1  The Illinois Department of Health reports that...   \n",
              "2  Multiple new variants of the virus that causes...   \n",
              "3  A new study out of Massachusetts also suggests...   \n",
              "4  A new COVID-19 omicron variant is driving up c...   \n",
              "\n",
              "                                                link  \\\n",
              "0  https://www.shawlocal.com/northwest-herald/cor...   \n",
              "1  https://www.wrex.com/coronavirus/6-stateline-c...   \n",
              "2  https://www.usatoday.com/story/news/factcheck/...   \n",
              "3  https://www.wbur.org/news/2023/04/14/covid-was...   \n",
              "4  https://www.everydayhealth.com/coronavirus/who...   \n",
              "\n",
              "                                                 img  \n",
              "0  data:image/gif;base64,R0lGODlhAQABAIAAAP//////...  \n",
              "1  data:image/gif;base64,R0lGODlhAQABAIAAAP//////...  \n",
              "2  data:image/gif;base64,R0lGODlhAQABAIAAAP//////...  \n",
              "3  data:image/gif;base64,R0lGODlhAQABAIAAAP//////...  \n",
              "4  data:image/gif;base64,R0lGODlhAQABAIAAAP//////...  "
            ],
            "text/html": [
              "\n",
              "  <div id=\"df-c5636a96-1f67-4f6b-8fe8-3485fabec0ed\">\n",
              "    <div class=\"colab-df-container\">\n",
              "      <div>\n",
              "<style scoped>\n",
              "    .dataframe tbody tr th:only-of-type {\n",
              "        vertical-align: middle;\n",
              "    }\n",
              "\n",
              "    .dataframe tbody tr th {\n",
              "        vertical-align: top;\n",
              "    }\n",
              "\n",
              "    .dataframe thead th {\n",
              "        text-align: right;\n",
              "    }\n",
              "</style>\n",
              "<table border=\"1\" class=\"dataframe\">\n",
              "  <thead>\n",
              "    <tr style=\"text-align: right;\">\n",
              "      <th></th>\n",
              "      <th>title</th>\n",
              "      <th>media</th>\n",
              "      <th>date</th>\n",
              "      <th>datetime</th>\n",
              "      <th>desc</th>\n",
              "      <th>link</th>\n",
              "      <th>img</th>\n",
              "    </tr>\n",
              "  </thead>\n",
              "  <tbody>\n",
              "    <tr>\n",
              "      <th>0</th>\n",
              "      <td>McHenry County reports one more COVID-19 death...</td>\n",
              "      <td>Shaw Local</td>\n",
              "      <td>3 mins ago</td>\n",
              "      <td>2023-04-14 21:20:22.834762</td>\n",
              "      <td>For 12 straight weeks, McHenry County's COVID-...</td>\n",
              "      <td>https://www.shawlocal.com/northwest-herald/cor...</td>\n",
              "      <td>data:image/gif;base64,R0lGODlhAQABAIAAAP//////...</td>\n",
              "    </tr>\n",
              "    <tr>\n",
              "      <th>1</th>\n",
              "      <td>6 Stateline counties at Medium Community level...</td>\n",
              "      <td>WREX</td>\n",
              "      <td>4 mins ago</td>\n",
              "      <td>2023-04-14 21:19:22.828925</td>\n",
              "      <td>The Illinois Department of Health reports that...</td>\n",
              "      <td>https://www.wrex.com/coronavirus/6-stateline-c...</td>\n",
              "      <td>data:image/gif;base64,R0lGODlhAQABAIAAAP//////...</td>\n",
              "    </tr>\n",
              "    <tr>\n",
              "      <th>2</th>\n",
              "      <td>Fact check: New COVID-19 variants still found ...</td>\n",
              "      <td>USA Today</td>\n",
              "      <td>Fact check article · 6 mins ago</td>\n",
              "      <td>2023-04-14 21:17:22.810623</td>\n",
              "      <td>Multiple new variants of the virus that causes...</td>\n",
              "      <td>https://www.usatoday.com/story/news/factcheck/...</td>\n",
              "      <td>data:image/gif;base64,R0lGODlhAQABAIAAAP//////...</td>\n",
              "    </tr>\n",
              "    <tr>\n",
              "      <th>3</th>\n",
              "      <td>Watching the wastewater: Mass. COVID at lowest...</td>\n",
              "      <td>WBUR</td>\n",
              "      <td>7 mins ago</td>\n",
              "      <td>2023-04-14 21:16:22.824537</td>\n",
              "      <td>A new study out of Massachusetts also suggests...</td>\n",
              "      <td>https://www.wbur.org/news/2023/04/14/covid-was...</td>\n",
              "      <td>data:image/gif;base64,R0lGODlhAQABAIAAAP//////...</td>\n",
              "    </tr>\n",
              "    <tr>\n",
              "      <th>4</th>\n",
              "      <td>What Is the Arcturus Omicron XBB.1.16 Subvariant?</td>\n",
              "      <td>Everyday Health</td>\n",
              "      <td>8 mins ago</td>\n",
              "      <td>2023-04-14 21:15:22.819915</td>\n",
              "      <td>A new COVID-19 omicron variant is driving up c...</td>\n",
              "      <td>https://www.everydayhealth.com/coronavirus/who...</td>\n",
              "      <td>data:image/gif;base64,R0lGODlhAQABAIAAAP//////...</td>\n",
              "    </tr>\n",
              "  </tbody>\n",
              "</table>\n",
              "</div>\n",
              "      <button class=\"colab-df-convert\" onclick=\"convertToInteractive('df-c5636a96-1f67-4f6b-8fe8-3485fabec0ed')\"\n",
              "              title=\"Convert this dataframe to an interactive table.\"\n",
              "              style=\"display:none;\">\n",
              "        \n",
              "  <svg xmlns=\"http://www.w3.org/2000/svg\" height=\"24px\"viewBox=\"0 0 24 24\"\n",
              "       width=\"24px\">\n",
              "    <path d=\"M0 0h24v24H0V0z\" fill=\"none\"/>\n",
              "    <path d=\"M18.56 5.44l.94 2.06.94-2.06 2.06-.94-2.06-.94-.94-2.06-.94 2.06-2.06.94zm-11 1L8.5 8.5l.94-2.06 2.06-.94-2.06-.94L8.5 2.5l-.94 2.06-2.06.94zm10 10l.94 2.06.94-2.06 2.06-.94-2.06-.94-.94-2.06-.94 2.06-2.06.94z\"/><path d=\"M17.41 7.96l-1.37-1.37c-.4-.4-.92-.59-1.43-.59-.52 0-1.04.2-1.43.59L10.3 9.45l-7.72 7.72c-.78.78-.78 2.05 0 2.83L4 21.41c.39.39.9.59 1.41.59.51 0 1.02-.2 1.41-.59l7.78-7.78 2.81-2.81c.8-.78.8-2.07 0-2.86zM5.41 20L4 18.59l7.72-7.72 1.47 1.35L5.41 20z\"/>\n",
              "  </svg>\n",
              "      </button>\n",
              "      \n",
              "  <style>\n",
              "    .colab-df-container {\n",
              "      display:flex;\n",
              "      flex-wrap:wrap;\n",
              "      gap: 12px;\n",
              "    }\n",
              "\n",
              "    .colab-df-convert {\n",
              "      background-color: #E8F0FE;\n",
              "      border: none;\n",
              "      border-radius: 50%;\n",
              "      cursor: pointer;\n",
              "      display: none;\n",
              "      fill: #1967D2;\n",
              "      height: 32px;\n",
              "      padding: 0 0 0 0;\n",
              "      width: 32px;\n",
              "    }\n",
              "\n",
              "    .colab-df-convert:hover {\n",
              "      background-color: #E2EBFA;\n",
              "      box-shadow: 0px 1px 2px rgba(60, 64, 67, 0.3), 0px 1px 3px 1px rgba(60, 64, 67, 0.15);\n",
              "      fill: #174EA6;\n",
              "    }\n",
              "\n",
              "    [theme=dark] .colab-df-convert {\n",
              "      background-color: #3B4455;\n",
              "      fill: #D2E3FC;\n",
              "    }\n",
              "\n",
              "    [theme=dark] .colab-df-convert:hover {\n",
              "      background-color: #434B5C;\n",
              "      box-shadow: 0px 1px 3px 1px rgba(0, 0, 0, 0.15);\n",
              "      filter: drop-shadow(0px 1px 2px rgba(0, 0, 0, 0.3));\n",
              "      fill: #FFFFFF;\n",
              "    }\n",
              "  </style>\n",
              "\n",
              "      <script>\n",
              "        const buttonEl =\n",
              "          document.querySelector('#df-c5636a96-1f67-4f6b-8fe8-3485fabec0ed button.colab-df-convert');\n",
              "        buttonEl.style.display =\n",
              "          google.colab.kernel.accessAllowed ? 'block' : 'none';\n",
              "\n",
              "        async function convertToInteractive(key) {\n",
              "          const element = document.querySelector('#df-c5636a96-1f67-4f6b-8fe8-3485fabec0ed');\n",
              "          const dataTable =\n",
              "            await google.colab.kernel.invokeFunction('convertToInteractive',\n",
              "                                                     [key], {});\n",
              "          if (!dataTable) return;\n",
              "\n",
              "          const docLinkHtml = 'Like what you see? Visit the ' +\n",
              "            '<a target=\"_blank\" href=https://colab.research.google.com/notebooks/data_table.ipynb>data table notebook</a>'\n",
              "            + ' to learn more about interactive tables.';\n",
              "          element.innerHTML = '';\n",
              "          dataTable['output_type'] = 'display_data';\n",
              "          await google.colab.output.renderOutput(dataTable, element);\n",
              "          const docLink = document.createElement('div');\n",
              "          docLink.innerHTML = docLinkHtml;\n",
              "          element.appendChild(docLink);\n",
              "        }\n",
              "      </script>\n",
              "    </div>\n",
              "  </div>\n",
              "  "
            ]
          },
          "metadata": {},
          "execution_count": 242
        }
      ]
    },
    {
      "cell_type": "markdown",
      "source": [
        "Performing tokenization, lemmatization, removing stop words and removing HTML tag"
      ],
      "metadata": {
        "id": "XoD0A3S0lwiZ"
      }
    },
    {
      "cell_type": "code",
      "source": [
        "def preprocess_text(text):\n",
        "\n",
        "    # Tokenize the text\n",
        "    tokens = word_tokenize(text.lower())\n",
        "\n",
        "    # Removing HTML Tags\n",
        "    soup = BeautifulSoup(text, 'lxml')\n",
        "    return soup.get_text()\n",
        "\n",
        "    # Remove stop words\n",
        "    filtered_tokens = [token for token in soup if token not in stopwords.words('english')]\n",
        "\n",
        "    # Lemmatize the tokens\n",
        "    lemmatizer = WordNetLemmatizer()\n",
        "    lemmatized_tokens = [lemmatizer.lemmatize(token) for token in filtered_tokens]\n",
        "\n",
        "    # Join the tokens back into a string\n",
        "    processed_text = ' '.join(lemmatized_tokens)\n",
        "    return processed_text\n",
        "\n",
        "news_data_df['desc'] = news_data_df['desc'].apply(preprocess_text)\n",
        "news_data_df['desc']\n",
        "\n"
      ],
      "metadata": {
        "colab": {
          "base_uri": "https://localhost:8080/"
        },
        "id": "ivX05rmofV6Y",
        "outputId": "8b515e50-4470-4739-a118-db51313318f6"
      },
      "execution_count": 243,
      "outputs": [
        {
          "output_type": "stream",
          "name": "stderr",
          "text": [
            "<ipython-input-243-588d4be609ed>:7: MarkupResemblesLocatorWarning: The input looks more like a filename than markup. You may want to open this file and pass the filehandle into Beautiful Soup.\n",
            "  soup = BeautifulSoup(text, 'lxml')\n"
          ]
        },
        {
          "output_type": "execute_result",
          "data": {
            "text/plain": [
              "0     For 12 straight weeks, McHenry County's COVID-...\n",
              "1     The Illinois Department of Health reports that...\n",
              "2     Multiple new variants of the virus that causes...\n",
              "3     A new study out of Massachusetts also suggests...\n",
              "4     A new COVID-19 omicron variant is driving up c...\n",
              "5     Federal prosecutors accused a pair of brothers...\n",
              "6     INDIANAPOLIS (WISH) – The Indiana Department o...\n",
              "7     Brothers from Palm Beach County and Miramar we...\n",
              "8     An average 243 people a day test positive for ...\n",
              "9     This past week President Joe Biden signed into...\n",
              "10    The AMA is closely monitoring COVID-19 (2019 n...\n",
              "11    This tracker provides data on global COVID-19 ...\n",
              "12    Data is updated every other week. Next Update:...\n",
              "13    Chronic absenteeism in schools persists around...\n",
              "14    The Public Health Agency (PHA) in Northern Ire...\n",
              "15    When the curtain came down on March 12, 2020, ...\n",
              "16    In December 2020, before the rollout of the Co...\n",
              "17    The U.S. national emergency to respond to the ...\n",
              "18    New Brunswick reported six more deaths from CO...\n",
              "19    A U.S. appeals court affirmed a decision to ca...\n",
              "Name: desc, dtype: object"
            ]
          },
          "metadata": {},
          "execution_count": 243
        }
      ]
    },
    {
      "cell_type": "markdown",
      "source": [
        "Selecting adjectives from the news description and appending them to our dataframe"
      ],
      "metadata": {
        "id": "V2Kc3MGSmZT8"
      }
    },
    {
      "cell_type": "markdown",
      "source": [
        "### **Sentiment Analysis**"
      ],
      "metadata": {
        "id": "LP-KE2kcmq_L"
      }
    },
    {
      "cell_type": "code",
      "source": [
        "def percentage(part,whole):\n",
        "    return 100 * float(part)/float(whole)\n",
        "\n",
        "#Assigning Initial Values\n",
        "positive = 0\n",
        "negative = 0\n",
        "neutral = 0\n",
        "#Creating empty lists\n",
        "news_list = []\n",
        "neutral_list = []\n",
        "negative_list = []\n",
        "positive_list = []\n",
        "df_new = []\n",
        "senti_value = []\n",
        "\n",
        "#Iterating over the news in the dataframe\n",
        "for news in news_data_df['desc']:\n",
        "    news_list.append(news)\n",
        "    analyzer = SentimentIntensityAnalyzer().polarity_scores(news)\n",
        "\n",
        "    neg = analyzer['neg']\n",
        "    df_new.append(neg)\n",
        "    senti_value.append(\"-1\")\n",
        "\n",
        "    neu = analyzer['neu']\n",
        "    df_new.append(neu)\n",
        "    senti_value.append(\"0\")\n",
        "\n",
        "    pos = analyzer['pos']\n",
        "    df_new.append(pos)\n",
        "    senti_value.append(\"+1\")\n",
        "\n",
        "    comp = analyzer['compound']   \n",
        "    news_data_df['weigh_of_sentiment'] = pd.Series(df_new)\n",
        "    news_data_df['sentiment'] = pd.Series(senti_value)\n",
        "\n",
        "    if neg > pos:\n",
        "        negative_list.append(news) #appending the news that satisfies this condition\n",
        "        negative += 1 #increasing the count by 1\n",
        "    elif pos > neg:\n",
        "        positive_list.append(news) #appending the news that satisfies this condition\n",
        "        positive += 1 #increasing the count by 1\n",
        "    elif pos == neg:\n",
        "        neutral_list.append(news) #appending the news that satisfies this condition\n",
        "        neutral += 1 #increasing the count by 1 \n",
        "\n",
        "positive = percentage(positive, len(news_data_df)) #percentage is the function defined above\n",
        "negative = percentage(negative, len(news_data_df))\n",
        "neutral = percentage(neutral, len(news_data_df))\n",
        "\n",
        "#Converting lists to pandas dataframe\n",
        "news_list = pd.DataFrame(news_list)\n",
        "neutral_list = pd.DataFrame(neutral_list)\n",
        "negative_list = pd.DataFrame(negative_list)\n",
        "positive_list = pd.DataFrame(positive_list)\n",
        "#using len(length) function for counting\n",
        "print(\"Positive Sentiment:\", '%.2f' % len(positive_list), end='\\n')\n",
        "print(\"Neutral Sentiment:\", '%.2f' % len(neutral_list), end='\\n')\n",
        "print(\"Negative Sentiment:\", '%.2f' % len(negative_list), end='\\n')\n",
        "\n"
      ],
      "metadata": {
        "colab": {
          "base_uri": "https://localhost:8080/"
        },
        "id": "L6InlCvagWOx",
        "outputId": "518ca3f1-d98d-42e7-ae14-6c28f3278499"
      },
      "execution_count": 244,
      "outputs": [
        {
          "output_type": "stream",
          "name": "stdout",
          "text": [
            "Positive Sentiment: 5.00\n",
            "Neutral Sentiment: 8.00\n",
            "Negative Sentiment: 7.00\n"
          ]
        }
      ]
    },
    {
      "cell_type": "code",
      "source": [
        "news_data_df.head()"
      ],
      "metadata": {
        "colab": {
          "base_uri": "https://localhost:8080/",
          "height": 632
        },
        "id": "4D09hiEXRtrh",
        "outputId": "6cff3866-b50a-4d2b-b50d-c7f322801dbd"
      },
      "execution_count": 245,
      "outputs": [
        {
          "output_type": "execute_result",
          "data": {
            "text/plain": [
              "                                               title            media  \\\n",
              "0  McHenry County reports one more COVID-19 death...       Shaw Local   \n",
              "1  6 Stateline counties at Medium Community level...             WREX   \n",
              "2  Fact check: New COVID-19 variants still found ...        USA Today   \n",
              "3  Watching the wastewater: Mass. COVID at lowest...             WBUR   \n",
              "4  What Is the Arcturus Omicron XBB.1.16 Subvariant?  Everyday Health   \n",
              "\n",
              "                              date                   datetime  \\\n",
              "0                       3 mins ago 2023-04-14 21:20:22.834762   \n",
              "1                       4 mins ago 2023-04-14 21:19:22.828925   \n",
              "2  Fact check article · 6 mins ago 2023-04-14 21:17:22.810623   \n",
              "3                       7 mins ago 2023-04-14 21:16:22.824537   \n",
              "4                       8 mins ago 2023-04-14 21:15:22.819915   \n",
              "\n",
              "                                                desc  \\\n",
              "0  For 12 straight weeks, McHenry County's COVID-...   \n",
              "1  The Illinois Department of Health reports that...   \n",
              "2  Multiple new variants of the virus that causes...   \n",
              "3  A new study out of Massachusetts also suggests...   \n",
              "4  A new COVID-19 omicron variant is driving up c...   \n",
              "\n",
              "                                                link  \\\n",
              "0  https://www.shawlocal.com/northwest-herald/cor...   \n",
              "1  https://www.wrex.com/coronavirus/6-stateline-c...   \n",
              "2  https://www.usatoday.com/story/news/factcheck/...   \n",
              "3  https://www.wbur.org/news/2023/04/14/covid-was...   \n",
              "4  https://www.everydayhealth.com/coronavirus/who...   \n",
              "\n",
              "                                                 img  weigh_of_sentiment  \\\n",
              "0  data:image/gif;base64,R0lGODlhAQABAIAAAP//////...               0.000   \n",
              "1  data:image/gif;base64,R0lGODlhAQABAIAAAP//////...               0.917   \n",
              "2  data:image/gif;base64,R0lGODlhAQABAIAAAP//////...               0.083   \n",
              "3  data:image/gif;base64,R0lGODlhAQABAIAAAP//////...               0.000   \n",
              "4  data:image/gif;base64,R0lGODlhAQABAIAAAP//////...               1.000   \n",
              "\n",
              "  sentiment  \n",
              "0        -1  \n",
              "1         0  \n",
              "2        +1  \n",
              "3        -1  \n",
              "4         0  "
            ],
            "text/html": [
              "\n",
              "  <div id=\"df-47041acb-4533-424b-8458-1fa499e21217\">\n",
              "    <div class=\"colab-df-container\">\n",
              "      <div>\n",
              "<style scoped>\n",
              "    .dataframe tbody tr th:only-of-type {\n",
              "        vertical-align: middle;\n",
              "    }\n",
              "\n",
              "    .dataframe tbody tr th {\n",
              "        vertical-align: top;\n",
              "    }\n",
              "\n",
              "    .dataframe thead th {\n",
              "        text-align: right;\n",
              "    }\n",
              "</style>\n",
              "<table border=\"1\" class=\"dataframe\">\n",
              "  <thead>\n",
              "    <tr style=\"text-align: right;\">\n",
              "      <th></th>\n",
              "      <th>title</th>\n",
              "      <th>media</th>\n",
              "      <th>date</th>\n",
              "      <th>datetime</th>\n",
              "      <th>desc</th>\n",
              "      <th>link</th>\n",
              "      <th>img</th>\n",
              "      <th>weigh_of_sentiment</th>\n",
              "      <th>sentiment</th>\n",
              "    </tr>\n",
              "  </thead>\n",
              "  <tbody>\n",
              "    <tr>\n",
              "      <th>0</th>\n",
              "      <td>McHenry County reports one more COVID-19 death...</td>\n",
              "      <td>Shaw Local</td>\n",
              "      <td>3 mins ago</td>\n",
              "      <td>2023-04-14 21:20:22.834762</td>\n",
              "      <td>For 12 straight weeks, McHenry County's COVID-...</td>\n",
              "      <td>https://www.shawlocal.com/northwest-herald/cor...</td>\n",
              "      <td>data:image/gif;base64,R0lGODlhAQABAIAAAP//////...</td>\n",
              "      <td>0.000</td>\n",
              "      <td>-1</td>\n",
              "    </tr>\n",
              "    <tr>\n",
              "      <th>1</th>\n",
              "      <td>6 Stateline counties at Medium Community level...</td>\n",
              "      <td>WREX</td>\n",
              "      <td>4 mins ago</td>\n",
              "      <td>2023-04-14 21:19:22.828925</td>\n",
              "      <td>The Illinois Department of Health reports that...</td>\n",
              "      <td>https://www.wrex.com/coronavirus/6-stateline-c...</td>\n",
              "      <td>data:image/gif;base64,R0lGODlhAQABAIAAAP//////...</td>\n",
              "      <td>0.917</td>\n",
              "      <td>0</td>\n",
              "    </tr>\n",
              "    <tr>\n",
              "      <th>2</th>\n",
              "      <td>Fact check: New COVID-19 variants still found ...</td>\n",
              "      <td>USA Today</td>\n",
              "      <td>Fact check article · 6 mins ago</td>\n",
              "      <td>2023-04-14 21:17:22.810623</td>\n",
              "      <td>Multiple new variants of the virus that causes...</td>\n",
              "      <td>https://www.usatoday.com/story/news/factcheck/...</td>\n",
              "      <td>data:image/gif;base64,R0lGODlhAQABAIAAAP//////...</td>\n",
              "      <td>0.083</td>\n",
              "      <td>+1</td>\n",
              "    </tr>\n",
              "    <tr>\n",
              "      <th>3</th>\n",
              "      <td>Watching the wastewater: Mass. COVID at lowest...</td>\n",
              "      <td>WBUR</td>\n",
              "      <td>7 mins ago</td>\n",
              "      <td>2023-04-14 21:16:22.824537</td>\n",
              "      <td>A new study out of Massachusetts also suggests...</td>\n",
              "      <td>https://www.wbur.org/news/2023/04/14/covid-was...</td>\n",
              "      <td>data:image/gif;base64,R0lGODlhAQABAIAAAP//////...</td>\n",
              "      <td>0.000</td>\n",
              "      <td>-1</td>\n",
              "    </tr>\n",
              "    <tr>\n",
              "      <th>4</th>\n",
              "      <td>What Is the Arcturus Omicron XBB.1.16 Subvariant?</td>\n",
              "      <td>Everyday Health</td>\n",
              "      <td>8 mins ago</td>\n",
              "      <td>2023-04-14 21:15:22.819915</td>\n",
              "      <td>A new COVID-19 omicron variant is driving up c...</td>\n",
              "      <td>https://www.everydayhealth.com/coronavirus/who...</td>\n",
              "      <td>data:image/gif;base64,R0lGODlhAQABAIAAAP//////...</td>\n",
              "      <td>1.000</td>\n",
              "      <td>0</td>\n",
              "    </tr>\n",
              "  </tbody>\n",
              "</table>\n",
              "</div>\n",
              "      <button class=\"colab-df-convert\" onclick=\"convertToInteractive('df-47041acb-4533-424b-8458-1fa499e21217')\"\n",
              "              title=\"Convert this dataframe to an interactive table.\"\n",
              "              style=\"display:none;\">\n",
              "        \n",
              "  <svg xmlns=\"http://www.w3.org/2000/svg\" height=\"24px\"viewBox=\"0 0 24 24\"\n",
              "       width=\"24px\">\n",
              "    <path d=\"M0 0h24v24H0V0z\" fill=\"none\"/>\n",
              "    <path d=\"M18.56 5.44l.94 2.06.94-2.06 2.06-.94-2.06-.94-.94-2.06-.94 2.06-2.06.94zm-11 1L8.5 8.5l.94-2.06 2.06-.94-2.06-.94L8.5 2.5l-.94 2.06-2.06.94zm10 10l.94 2.06.94-2.06 2.06-.94-2.06-.94-.94-2.06-.94 2.06-2.06.94z\"/><path d=\"M17.41 7.96l-1.37-1.37c-.4-.4-.92-.59-1.43-.59-.52 0-1.04.2-1.43.59L10.3 9.45l-7.72 7.72c-.78.78-.78 2.05 0 2.83L4 21.41c.39.39.9.59 1.41.59.51 0 1.02-.2 1.41-.59l7.78-7.78 2.81-2.81c.8-.78.8-2.07 0-2.86zM5.41 20L4 18.59l7.72-7.72 1.47 1.35L5.41 20z\"/>\n",
              "  </svg>\n",
              "      </button>\n",
              "      \n",
              "  <style>\n",
              "    .colab-df-container {\n",
              "      display:flex;\n",
              "      flex-wrap:wrap;\n",
              "      gap: 12px;\n",
              "    }\n",
              "\n",
              "    .colab-df-convert {\n",
              "      background-color: #E8F0FE;\n",
              "      border: none;\n",
              "      border-radius: 50%;\n",
              "      cursor: pointer;\n",
              "      display: none;\n",
              "      fill: #1967D2;\n",
              "      height: 32px;\n",
              "      padding: 0 0 0 0;\n",
              "      width: 32px;\n",
              "    }\n",
              "\n",
              "    .colab-df-convert:hover {\n",
              "      background-color: #E2EBFA;\n",
              "      box-shadow: 0px 1px 2px rgba(60, 64, 67, 0.3), 0px 1px 3px 1px rgba(60, 64, 67, 0.15);\n",
              "      fill: #174EA6;\n",
              "    }\n",
              "\n",
              "    [theme=dark] .colab-df-convert {\n",
              "      background-color: #3B4455;\n",
              "      fill: #D2E3FC;\n",
              "    }\n",
              "\n",
              "    [theme=dark] .colab-df-convert:hover {\n",
              "      background-color: #434B5C;\n",
              "      box-shadow: 0px 1px 3px 1px rgba(0, 0, 0, 0.15);\n",
              "      filter: drop-shadow(0px 1px 2px rgba(0, 0, 0, 0.3));\n",
              "      fill: #FFFFFF;\n",
              "    }\n",
              "  </style>\n",
              "\n",
              "      <script>\n",
              "        const buttonEl =\n",
              "          document.querySelector('#df-47041acb-4533-424b-8458-1fa499e21217 button.colab-df-convert');\n",
              "        buttonEl.style.display =\n",
              "          google.colab.kernel.accessAllowed ? 'block' : 'none';\n",
              "\n",
              "        async function convertToInteractive(key) {\n",
              "          const element = document.querySelector('#df-47041acb-4533-424b-8458-1fa499e21217');\n",
              "          const dataTable =\n",
              "            await google.colab.kernel.invokeFunction('convertToInteractive',\n",
              "                                                     [key], {});\n",
              "          if (!dataTable) return;\n",
              "\n",
              "          const docLinkHtml = 'Like what you see? Visit the ' +\n",
              "            '<a target=\"_blank\" href=https://colab.research.google.com/notebooks/data_table.ipynb>data table notebook</a>'\n",
              "            + ' to learn more about interactive tables.';\n",
              "          element.innerHTML = '';\n",
              "          dataTable['output_type'] = 'display_data';\n",
              "          await google.colab.output.renderOutput(dataTable, element);\n",
              "          const docLink = document.createElement('div');\n",
              "          docLink.innerHTML = docLinkHtml;\n",
              "          element.appendChild(docLink);\n",
              "        }\n",
              "      </script>\n",
              "    </div>\n",
              "  </div>\n",
              "  "
            ]
          },
          "metadata": {},
          "execution_count": 245
        }
      ]
    },
    {
      "cell_type": "markdown",
      "source": [
        "### **Data Visualization**"
      ],
      "metadata": {
        "id": "_eMekSrKnt5T"
      }
    },
    {
      "cell_type": "markdown",
      "source": [
        "Visualize news description sentiment by pie chart"
      ],
      "metadata": {
        "id": "WBNSqXeJm90o"
      }
    },
    {
      "cell_type": "code",
      "source": [
        "labels = ['Positive ['+str(round(positive))+'%]' , 'Neutral ['+str(round(neutral))+'%]','Negative ['+str(round(negative))+'%]']\n",
        "sizes = [positive, neutral, negative]\n",
        "colors = ['green', 'blue','red']\n",
        "patches, texts = plt.pie(sizes,colors=colors, startangle=90)\n",
        "plt.style.use('default')\n",
        "plt.legend(labels)\n",
        "plt.title(\"Sentiment Analysis Result for COVID-19\")\n",
        "plt.axis('equal')\n",
        "plt.show()"
      ],
      "metadata": {
        "colab": {
          "base_uri": "https://localhost:8080/",
          "height": 428
        },
        "id": "KdgPgkKDhpKK",
        "outputId": "9cf8fbd5-c422-48bc-9781-6efdb1aff83d"
      },
      "execution_count": 246,
      "outputs": [
        {
          "output_type": "display_data",
          "data": {
            "text/plain": [
              "<Figure size 640x480 with 1 Axes>"
            ],
            "image/png": "[encoded data removed]"
          },
          "metadata": {}
        }
      ]
    },
    {
      "cell_type": "markdown",
      "source": [
        "### **Looking at the most common adjectives**"
      ],
      "metadata": {
        "id": "hLP_CaLLn87w"
      }
    },
    {
      "cell_type": "markdown",
      "source": [
        "Selecting adjectives from the news description and appending them to dataframe"
      ],
      "metadata": {
        "id": "UwCf6lVupJEy"
      }
    },
    {
      "cell_type": "code",
      "source": [
        "pos_adj=[]\n",
        "for token in news_data_df['desc']:\n",
        "    desc = pos_spacy(token)\n",
        "    pos_token = [tok.lemma_.lower().strip() for tok in desc if tok.pos_ == 'ADJ']\n",
        "    pos_adj.append(pos_token)\n",
        "\n",
        "news_data_df['pos_adj'] = pd.Series(pos_adj)\n",
        "\n"
      ],
      "metadata": {
        "id": "jLWBsYLno_Kr"
      },
      "execution_count": 247,
      "outputs": []
    },
    {
      "cell_type": "code",
      "source": [
        "news_data_df.head()"
      ],
      "metadata": {
        "colab": {
          "base_uri": "https://localhost:8080/",
          "height": 652
        },
        "id": "1szLHkFvpOWe",
        "outputId": "1ed274cb-f659-47a1-b68e-74b17aeea21d"
      },
      "execution_count": 248,
      "outputs": [
        {
          "output_type": "execute_result",
          "data": {
            "text/plain": [
              "                                               title            media  \\\n",
              "0  McHenry County reports one more COVID-19 death...       Shaw Local   \n",
              "1  6 Stateline counties at Medium Community level...             WREX   \n",
              "2  Fact check: New COVID-19 variants still found ...        USA Today   \n",
              "3  Watching the wastewater: Mass. COVID at lowest...             WBUR   \n",
              "4  What Is the Arcturus Omicron XBB.1.16 Subvariant?  Everyday Health   \n",
              "\n",
              "                              date                   datetime  \\\n",
              "0                       3 mins ago 2023-04-14 21:20:22.834762   \n",
              "1                       4 mins ago 2023-04-14 21:19:22.828925   \n",
              "2  Fact check article · 6 mins ago 2023-04-14 21:17:22.810623   \n",
              "3                       7 mins ago 2023-04-14 21:16:22.824537   \n",
              "4                       8 mins ago 2023-04-14 21:15:22.819915   \n",
              "\n",
              "                                                desc  \\\n",
              "0  For 12 straight weeks, McHenry County's COVID-...   \n",
              "1  The Illinois Department of Health reports that...   \n",
              "2  Multiple new variants of the virus that causes...   \n",
              "3  A new study out of Massachusetts also suggests...   \n",
              "4  A new COVID-19 omicron variant is driving up c...   \n",
              "\n",
              "                                                link  \\\n",
              "0  https://www.shawlocal.com/northwest-herald/cor...   \n",
              "1  https://www.wrex.com/coronavirus/6-stateline-c...   \n",
              "2  https://www.usatoday.com/story/news/factcheck/...   \n",
              "3  https://www.wbur.org/news/2023/04/14/covid-was...   \n",
              "4  https://www.everydayhealth.com/coronavirus/who...   \n",
              "\n",
              "                                                 img  weigh_of_sentiment  \\\n",
              "0  data:image/gif;base64,R0lGODlhAQABAIAAAP//////...               0.000   \n",
              "1  data:image/gif;base64,R0lGODlhAQABAIAAAP//////...               0.917   \n",
              "2  data:image/gif;base64,R0lGODlhAQABAIAAAP//////...               0.083   \n",
              "3  data:image/gif;base64,R0lGODlhAQABAIAAAP//////...               0.000   \n",
              "4  data:image/gif;base64,R0lGODlhAQABAIAAAP//////...               1.000   \n",
              "\n",
              "  sentiment                  pos_adj  \n",
              "0        -1          [straight, low]  \n",
              "1         0                       []  \n",
              "2        +1  [multiple, new, public]  \n",
              "3        -1    [new, dangerous, few]  \n",
              "4         0                    [new]  "
            ],
            "text/html": [
              "\n",
              "  <div id=\"df-f3c23870-676c-4553-bd0c-a22f0e49554a\">\n",
              "    <div class=\"colab-df-container\">\n",
              "      <div>\n",
              "<style scoped>\n",
              "    .dataframe tbody tr th:only-of-type {\n",
              "        vertical-align: middle;\n",
              "    }\n",
              "\n",
              "    .dataframe tbody tr th {\n",
              "        vertical-align: top;\n",
              "    }\n",
              "\n",
              "    .dataframe thead th {\n",
              "        text-align: right;\n",
              "    }\n",
              "</style>\n",
              "<table border=\"1\" class=\"dataframe\">\n",
              "  <thead>\n",
              "    <tr style=\"text-align: right;\">\n",
              "      <th></th>\n",
              "      <th>title</th>\n",
              "      <th>media</th>\n",
              "      <th>date</th>\n",
              "      <th>datetime</th>\n",
              "      <th>desc</th>\n",
              "      <th>link</th>\n",
              "      <th>img</th>\n",
              "      <th>weigh_of_sentiment</th>\n",
              "      <th>sentiment</th>\n",
              "      <th>pos_adj</th>\n",
              "    </tr>\n",
              "  </thead>\n",
              "  <tbody>\n",
              "    <tr>\n",
              "      <th>0</th>\n",
              "      <td>McHenry County reports one more COVID-19 death...</td>\n",
              "      <td>Shaw Local</td>\n",
              "      <td>3 mins ago</td>\n",
              "      <td>2023-04-14 21:20:22.834762</td>\n",
              "      <td>For 12 straight weeks, McHenry County's COVID-...</td>\n",
              "      <td>https://www.shawlocal.com/northwest-herald/cor...</td>\n",
              "      <td>data:image/gif;base64,R0lGODlhAQABAIAAAP//////...</td>\n",
              "      <td>0.000</td>\n",
              "      <td>-1</td>\n",
              "      <td>[straight, low]</td>\n",
              "    </tr>\n",
              "    <tr>\n",
              "      <th>1</th>\n",
              "      <td>6 Stateline counties at Medium Community level...</td>\n",
              "      <td>WREX</td>\n",
              "      <td>4 mins ago</td>\n",
              "      <td>2023-04-14 21:19:22.828925</td>\n",
              "      <td>The Illinois Department of Health reports that...</td>\n",
              "      <td>https://www.wrex.com/coronavirus/6-stateline-c...</td>\n",
              "      <td>data:image/gif;base64,R0lGODlhAQABAIAAAP//////...</td>\n",
              "      <td>0.917</td>\n",
              "      <td>0</td>\n",
              "      <td>[]</td>\n",
              "    </tr>\n",
              "    <tr>\n",
              "      <th>2</th>\n",
              "      <td>Fact check: New COVID-19 variants still found ...</td>\n",
              "      <td>USA Today</td>\n",
              "      <td>Fact check article · 6 mins ago</td>\n",
              "      <td>2023-04-14 21:17:22.810623</td>\n",
              "      <td>Multiple new variants of the virus that causes...</td>\n",
              "      <td>https://www.usatoday.com/story/news/factcheck/...</td>\n",
              "      <td>data:image/gif;base64,R0lGODlhAQABAIAAAP//////...</td>\n",
              "      <td>0.083</td>\n",
              "      <td>+1</td>\n",
              "      <td>[multiple, new, public]</td>\n",
              "    </tr>\n",
              "    <tr>\n",
              "      <th>3</th>\n",
              "      <td>Watching the wastewater: Mass. COVID at lowest...</td>\n",
              "      <td>WBUR</td>\n",
              "      <td>7 mins ago</td>\n",
              "      <td>2023-04-14 21:16:22.824537</td>\n",
              "      <td>A new study out of Massachusetts also suggests...</td>\n",
              "      <td>https://www.wbur.org/news/2023/04/14/covid-was...</td>\n",
              "      <td>data:image/gif;base64,R0lGODlhAQABAIAAAP//////...</td>\n",
              "      <td>0.000</td>\n",
              "      <td>-1</td>\n",
              "      <td>[new, dangerous, few]</td>\n",
              "    </tr>\n",
              "    <tr>\n",
              "      <th>4</th>\n",
              "      <td>What Is the Arcturus Omicron XBB.1.16 Subvariant?</td>\n",
              "      <td>Everyday Health</td>\n",
              "      <td>8 mins ago</td>\n",
              "      <td>2023-04-14 21:15:22.819915</td>\n",
              "      <td>A new COVID-19 omicron variant is driving up c...</td>\n",
              "      <td>https://www.everydayhealth.com/coronavirus/who...</td>\n",
              "      <td>data:image/gif;base64,R0lGODlhAQABAIAAAP//////...</td>\n",
              "      <td>1.000</td>\n",
              "      <td>0</td>\n",
              "      <td>[new]</td>\n",
              "    </tr>\n",
              "  </tbody>\n",
              "</table>\n",
              "</div>\n",
              "      <button class=\"colab-df-convert\" onclick=\"convertToInteractive('df-f3c23870-676c-4553-bd0c-a22f0e49554a')\"\n",
              "              title=\"Convert this dataframe to an interactive table.\"\n",
              "              style=\"display:none;\">\n",
              "        \n",
              "  <svg xmlns=\"http://www.w3.org/2000/svg\" height=\"24px\"viewBox=\"0 0 24 24\"\n",
              "       width=\"24px\">\n",
              "    <path d=\"M0 0h24v24H0V0z\" fill=\"none\"/>\n",
              "    <path d=\"M18.56 5.44l.94 2.06.94-2.06 2.06-.94-2.06-.94-.94-2.06-.94 2.06-2.06.94zm-11 1L8.5 8.5l.94-2.06 2.06-.94-2.06-.94L8.5 2.5l-.94 2.06-2.06.94zm10 10l.94 2.06.94-2.06 2.06-.94-2.06-.94-.94-2.06-.94 2.06-2.06.94z\"/><path d=\"M17.41 7.96l-1.37-1.37c-.4-.4-.92-.59-1.43-.59-.52 0-1.04.2-1.43.59L10.3 9.45l-7.72 7.72c-.78.78-.78 2.05 0 2.83L4 21.41c.39.39.9.59 1.41.59.51 0 1.02-.2 1.41-.59l7.78-7.78 2.81-2.81c.8-.78.8-2.07 0-2.86zM5.41 20L4 18.59l7.72-7.72 1.47 1.35L5.41 20z\"/>\n",
              "  </svg>\n",
              "      </button>\n",
              "      \n",
              "  <style>\n",
              "    .colab-df-container {\n",
              "      display:flex;\n",
              "      flex-wrap:wrap;\n",
              "      gap: 12px;\n",
              "    }\n",
              "\n",
              "    .colab-df-convert {\n",
              "      background-color: #E8F0FE;\n",
              "      border: none;\n",
              "      border-radius: 50%;\n",
              "      cursor: pointer;\n",
              "      display: none;\n",
              "      fill: #1967D2;\n",
              "      height: 32px;\n",
              "      padding: 0 0 0 0;\n",
              "      width: 32px;\n",
              "    }\n",
              "\n",
              "    .colab-df-convert:hover {\n",
              "      background-color: #E2EBFA;\n",
              "      box-shadow: 0px 1px 2px rgba(60, 64, 67, 0.3), 0px 1px 3px 1px rgba(60, 64, 67, 0.15);\n",
              "      fill: #174EA6;\n",
              "    }\n",
              "\n",
              "    [theme=dark] .colab-df-convert {\n",
              "      background-color: #3B4455;\n",
              "      fill: #D2E3FC;\n",
              "    }\n",
              "\n",
              "    [theme=dark] .colab-df-convert:hover {\n",
              "      background-color: #434B5C;\n",
              "      box-shadow: 0px 1px 3px 1px rgba(0, 0, 0, 0.15);\n",
              "      filter: drop-shadow(0px 1px 2px rgba(0, 0, 0, 0.3));\n",
              "      fill: #FFFFFF;\n",
              "    }\n",
              "  </style>\n",
              "\n",
              "      <script>\n",
              "        const buttonEl =\n",
              "          document.querySelector('#df-f3c23870-676c-4553-bd0c-a22f0e49554a button.colab-df-convert');\n",
              "        buttonEl.style.display =\n",
              "          google.colab.kernel.accessAllowed ? 'block' : 'none';\n",
              "\n",
              "        async function convertToInteractive(key) {\n",
              "          const element = document.querySelector('#df-f3c23870-676c-4553-bd0c-a22f0e49554a');\n",
              "          const dataTable =\n",
              "            await google.colab.kernel.invokeFunction('convertToInteractive',\n",
              "                                                     [key], {});\n",
              "          if (!dataTable) return;\n",
              "\n",
              "          const docLinkHtml = 'Like what you see? Visit the ' +\n",
              "            '<a target=\"_blank\" href=https://colab.research.google.com/notebooks/data_table.ipynb>data table notebook</a>'\n",
              "            + ' to learn more about interactive tables.';\n",
              "          element.innerHTML = '';\n",
              "          dataTable['output_type'] = 'display_data';\n",
              "          await google.colab.output.renderOutput(dataTable, element);\n",
              "          const docLink = document.createElement('div');\n",
              "          docLink.innerHTML = docLinkHtml;\n",
              "          element.appendChild(docLink);\n",
              "        }\n",
              "      </script>\n",
              "    </div>\n",
              "  </div>\n",
              "  "
            ]
          },
          "metadata": {},
          "execution_count": 248
        }
      ]
    },
    {
      "cell_type": "markdown",
      "source": [
        "Looking at most common positive adjectives used in News description"
      ],
      "metadata": {
        "id": "_-C3Kg-lnNqW"
      }
    },
    {
      "cell_type": "code",
      "source": [
        "positive_adj = news_data_df[news_data_df['sentiment']==\"+1\"]['pos_adj']\n",
        "pos_words = [token for token in positive_adj for token in set(token)]\n",
        "pos_adj_counter = Counter(pos_words). most_common(15)\n",
        "print(pos_adj_counter)"
      ],
      "metadata": {
        "colab": {
          "base_uri": "https://localhost:8080/"
        },
        "id": "kBgM29pSMrsH",
        "outputId": "99cf81b1-c98c-4a26-c280-f6e6231b1568"
      },
      "execution_count": 249,
      "outputs": [
        {
          "output_type": "stream",
          "name": "stdout",
          "text": [
            "[('new', 1), ('multiple', 1), ('public', 1), ('federal', 1), ('worth', 1), ('positive', 1), ('average', 1), ('global', 1), ('current', 1), ('serious', 1), ('national', 1)]\n"
          ]
        }
      ]
    },
    {
      "cell_type": "markdown",
      "source": [
        "Looking at most common negative adjectives used in News description"
      ],
      "metadata": {
        "id": "Bhm1HZp3nZia"
      }
    },
    {
      "cell_type": "code",
      "source": [
        "negative_adj = news_data_df[news_data_df['sentiment']==\"-1\"]['pos_adj']\n",
        "pos_words = [token for token in negative_adj for token in set(token)]\n",
        "pos_adj_counter = Counter(pos_words). most_common(15)\n",
        "print(pos_adj_counter)"
      ],
      "metadata": {
        "colab": {
          "base_uri": "https://localhost:8080/"
        },
        "id": "rtmBXfm3iPqb",
        "outputId": "78cd28bb-1bdf-465c-e240-82e63f21a4ed"
      },
      "execution_count": 250,
      "outputs": [
        {
          "output_type": "stream",
          "name": "stdout",
          "text": [
            "[('new', 2), ('few', 2), ('past', 2), ('low', 1), ('straight', 1), ('dangerous', 1), ('national', 1), ('official', 1), ('other', 1), ('raw', 1), ('daily', 1), ('more', 1)]\n"
          ]
        }
      ]
    },
    {
      "cell_type": "markdown",
      "source": [
        "Looking at most common neutral adjectives used in News description"
      ],
      "metadata": {
        "id": "gmbXJf_Enb8n"
      }
    },
    {
      "cell_type": "code",
      "source": [
        "neutral_adj = news_data_df[news_data_df['sentiment']==\"0\"]['pos_adj']\n",
        "pos_words = [token for token in neutral_adj for token in set(token)]\n",
        "pos_adj_counter = Counter(pos_words). most_common(15)\n",
        "print(pos_adj_counter)"
      ],
      "metadata": {
        "colab": {
          "base_uri": "https://localhost:8080/"
        },
        "id": "WeihFKC1iaUc",
        "outputId": "8bd4f838-1b7f-4ea6-a22b-a3836f2f60da"
      },
      "execution_count": 251,
      "outputs": [
        {
          "output_type": "stream",
          "name": "stdout",
          "text": [
            "[('new', 1), ('pandemic', 1), ('more', 1), ('chronic', 1), ('covid', 1), ('many', 1), ('legal', 1)]\n"
          ]
        }
      ]
    }
  ]
}